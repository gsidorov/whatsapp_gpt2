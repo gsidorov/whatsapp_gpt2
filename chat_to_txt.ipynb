{
 "cells": [
  {
   "cell_type": "code",
   "execution_count": 1,
   "metadata": {},
   "outputs": [],
   "source": [
    "#  In this notebook I will clean the chat conversacion and extract the messages from Gleb and Nacho"
   ]
  },
  {
   "cell_type": "code",
   "execution_count": 7,
   "metadata": {},
   "outputs": [],
   "source": [
    "# with open('gleb_uni.txt') as f:\n",
    "#     print(dir(f)) #mira que truco tan inteligente para conseguir ver lo que hay dentro de f una vez usas \"with\"\n",
    "#     f.read()\n",
    "#     chat = f.read()"
   ]
  },
  {
   "cell_type": "code",
   "execution_count": 326,
   "metadata": {},
   "outputs": [],
   "source": [
    "with open('gleb_uni.txt', encoding='utf8') as f:\n",
    "    chat = f.read()[1:]"
   ]
  },
  {
   "cell_type": "code",
   "execution_count": 327,
   "metadata": {},
   "outputs": [],
   "source": [
    "test_chat = chat"
   ]
  },
  {
   "cell_type": "code",
   "execution_count": 328,
   "metadata": {},
   "outputs": [],
   "source": [
    "test_chat_list = test_chat.split(' - ')[1:]"
   ]
  },
  {
   "cell_type": "code",
   "execution_count": 329,
   "metadata": {},
   "outputs": [],
   "source": [
    "# Selecting just the messages of Nacho\n",
    "\n",
    "nacho_msg = []\n",
    "\n",
    "for i in nacho_chat_list:\n",
    "    nacho_msg.append(i.split('\\n')[0].split('Nacho: ')[1])\n",
    "    \n",
    "# Selecting just the messages of Gleb\n",
    "\n",
    "gleb_msg = []\n",
    "\n",
    "for i in gleb_chat_list:\n",
    "\n",
    "    gleb_msg.append(i.split('\\n')[0].split('Gleb Uni: ')[1])"
   ]
  },
  {
   "cell_type": "code",
   "execution_count": 330,
   "metadata": {},
   "outputs": [],
   "source": [
    "# Cool method that I could have also could use for solving the problem\n",
    "# This is also useful to check wether or not the function has worked\n",
    "\n",
    "\n",
    "def gleb_media_index_counter(gleb_media_index=0):\n",
    "    for i,x in enumerate(gleb_msg):\n",
    "        if x == '<Multimedia omitido>':\n",
    "            gleb_media_index += 1\n",
    "    return gleb_media_index\n",
    "    "
   ]
  },
  {
   "cell_type": "code",
   "execution_count": 331,
   "metadata": {},
   "outputs": [
    {
     "data": {
      "text/plain": [
       "1187"
      ]
     },
     "execution_count": 331,
     "metadata": {},
     "output_type": "execute_result"
    }
   ],
   "source": [
    "gleb_media_index_counter()"
   ]
  },
  {
   "cell_type": "code",
   "execution_count": 332,
   "metadata": {},
   "outputs": [
    {
     "data": {
      "text/plain": [
       "(22202, 17797, 1187)"
      ]
     },
     "execution_count": 332,
     "metadata": {},
     "output_type": "execute_result"
    }
   ],
   "source": [
    "len(gleb_msg),len(nacho_msg),gleb_media_index_counter()"
   ]
  },
  {
   "cell_type": "code",
   "execution_count": 333,
   "metadata": {},
   "outputs": [
    {
     "name": "stdout",
     "output_type": "stream",
     "text": [
      "hemos quitado: 929 y del gleb_media_index quitamos 929\n",
      "hemos quitado: 1123 y del gleb_media_index quitamos 1123\n",
      "hemos quitado: 1175 y del gleb_media_index quitamos 1175\n",
      "hemos quitado: 1185 y del gleb_media_index quitamos 1185\n",
      "hemos quitado: 1187 y del gleb_media_index quitamos 1187\n"
     ]
    }
   ],
   "source": [
    "# Deleting the messages of media not found\n",
    "\n",
    "# For some strange reason, I need to run this loop for a few times (like 4 or 5 times in order to clean the whole dataset)\n",
    "for _ in range(5):\n",
    "    for i in gleb_msg:\n",
    "        gleb_index = -1\n",
    "        if i == '<Multimedia omitido>':\n",
    "            gleb_index += 1\n",
    "            gleb_msg.pop(gleb_msg.index(i) - gleb_index)\n",
    "    print(f'hemos quitado: {22202 - len(gleb_msg)} y del gleb_media_index quitamos {1187 - gleb_media_index_counter()}')"
   ]
  },
  {
   "cell_type": "code",
   "execution_count": 344,
   "metadata": {},
   "outputs": [],
   "source": [
    "for _ in range(6):  # For Nacho it takes 6 rounds, for me it takes 5 \n",
    "    for j in nacho_msg:\n",
    "        nacho_index = -1\n",
    "        if j == '<Multimedia omitido>':\n",
    "            nacho_index += 1\n",
    "            nacho_msg.pop(nacho_msg.index(j) - nacho_index)"
   ]
  },
  {
   "cell_type": "code",
   "execution_count": 345,
   "metadata": {},
   "outputs": [
    {
     "name": "stdout",
     "output_type": "stream",
     "text": [
      "0\n"
     ]
    }
   ],
   "source": [
    "nacho_media_index = 0\n",
    "for i,x in enumerate(nacho_msg):\n",
    "        if x == '<Multimedia omitido>':\n",
    "            nacho_media_index += 1\n",
    "print(nacho_media_index)"
   ]
  },
  {
   "cell_type": "code",
   "execution_count": 346,
   "metadata": {},
   "outputs": [],
   "source": [
    "# Last step is to export the text file\n",
    "\n",
    "with open('gleb_clean.txt', mode='w',encoding='utf8')  as file:\n",
    "    file.write(('\\n').join(gleb_msg))"
   ]
  },
  {
   "cell_type": "code",
   "execution_count": 347,
   "metadata": {},
   "outputs": [],
   "source": [
    "with open('nacho_clean.txt', mode='w',encoding='utf8')  as file:\n",
    "    file.write(('\\n').join(nacho_msg))"
   ]
  }
 ],
 "metadata": {
  "kernelspec": {
   "display_name": "Python 3",
   "language": "python",
   "name": "python3"
  },
  "language_info": {
   "codemirror_mode": {
    "name": "ipython",
    "version": 3
   },
   "file_extension": ".py",
   "mimetype": "text/x-python",
   "name": "python",
   "nbconvert_exporter": "python",
   "pygments_lexer": "ipython3",
   "version": "3.7.6"
  }
 },
 "nbformat": 4,
 "nbformat_minor": 4
}
